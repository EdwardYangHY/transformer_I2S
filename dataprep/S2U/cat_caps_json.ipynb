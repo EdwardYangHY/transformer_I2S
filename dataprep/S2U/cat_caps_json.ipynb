{
 "cells": [
  {
   "cell_type": "code",
   "execution_count": 1,
   "metadata": {},
   "outputs": [],
   "source": [
    "import os\n",
    "import json\n",
    "import numpy as np\n",
    "from glob import glob"
   ]
  },
  {
   "cell_type": "code",
   "execution_count": 2,
   "metadata": {},
   "outputs": [],
   "source": [
    "json_root_dir = \"/net/papilio/storage6/yhaoyuan/SpeechCap/data/libri_light_medium/\"\n",
    "data_root_dir = \"/net/tateha/storage2/database/misc/Libri-Light/medium_wav/\"\n",
    "eg_file = \"/net/papilio/storage2/yhaoyuan/transformer_I2S/data/libri_light/libri_light_small_hbcaps.json\"\n",
    "data_jsons = glob(json_root_dir + \"*.json\")\n",
    "libri_light_m = {\"audio_base_path\": data_root_dir}"
   ]
  },
  {
   "cell_type": "code",
   "execution_count": 4,
   "metadata": {},
   "outputs": [],
   "source": [
    "for json_file in data_jsons:\n",
    "    with open(json_file, \"r\") as f:\n",
    "        tmp = json.load(f)\n",
    "        libri_light_m.update(tmp)"
   ]
  },
  {
   "cell_type": "code",
   "execution_count": 5,
   "metadata": {},
   "outputs": [],
   "source": [
    "with open(\"/net/papilio/storage2/yhaoyuan/transformer_I2S/data/libri_light/libri_light_medium_hbcaps.json\", \"w\") as f:\n",
    "    json.dump(libri_light_m, f)"
   ]
  },
  {
   "cell_type": "code",
   "execution_count": null,
   "metadata": {},
   "outputs": [],
   "source": []
  }
 ],
 "metadata": {
  "kernelspec": {
   "display_name": "encodec-1.3",
   "language": "python",
   "name": "python3"
  },
  "language_info": {
   "codemirror_mode": {
    "name": "ipython",
    "version": 3
   },
   "file_extension": ".py",
   "mimetype": "text/x-python",
   "name": "python",
   "nbconvert_exporter": "python",
   "pygments_lexer": "ipython3",
   "version": "3.8.15"
  },
  "orig_nbformat": 4
 },
 "nbformat": 4,
 "nbformat_minor": 2
}
