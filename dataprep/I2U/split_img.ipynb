{
 "cells": [
  {
   "cell_type": "code",
   "execution_count": 68,
   "metadata": {},
   "outputs": [],
   "source": [
    "import pickle\n",
    "import json\n",
    "import numpy\n",
    "from glob import glob\n",
    "import random"
   ]
  },
  {
   "cell_type": "code",
   "execution_count": 50,
   "metadata": {},
   "outputs": [],
   "source": [
    "files = glob(r'/net/tateha/storage2/database/spolacq/FoodImagesA/*_orange/**.jpg')"
   ]
  },
  {
   "cell_type": "code",
   "execution_count": 60,
   "metadata": {},
   "outputs": [],
   "source": [
    "food_list={\n",
    "    'apple': '/14_apple',\n",
    "    'banana': '/03_banana',\n",
    "    'carrot': '/04_carrot',\n",
    "    'grape': '/18_grape',\n",
    "    'cucumber': '/15_cucumber',\n",
    "    'egg': '/08_egg',\n",
    "    'eggplant': '/05_eggplant',\n",
    "    'greenpepper': '/06_greenpepper',\n",
    "    'pea': '/17_pea',\n",
    "    'kiwi': '/10_kiwi',\n",
    "    'lemon': '/09_lemon',\n",
    "    'onion': '/13_onion',\n",
    "    'orange': '/00_orange',\n",
    "    'potatoes': '/12_potatoes',\n",
    "    'bread': '/16_bread',\n",
    "    'avocado': '/11_avocado',\n",
    "    'strawberry': '/19_strawberry',\n",
    "    'sweetpotato': '/02_sweetpotato',\n",
    "    'tomato': '/07_tomato',\n",
    "    'turnip': '/01_turnip'\n",
    "    #'orange02': '/orange02'\n",
    "}"
   ]
  },
  {
   "cell_type": "code",
   "execution_count": 62,
   "metadata": {},
   "outputs": [],
   "source": [
    "imgs = {}\n",
    "for key in food_list.keys():\n",
    "    imgs[key] = glob(rf'/net/tateha/storage2/database/spolacq/FoodImagesA/*_{key}/**.jpg')\n",
    "    #print(imgs[key][0])"
   ]
  },
  {
   "cell_type": "code",
   "execution_count": 69,
   "metadata": {},
   "outputs": [],
   "source": [
    "num = []\n",
    "for i in range(25):\n",
    "    num.append(str(i+1).zfill(2))"
   ]
  },
  {
   "cell_type": "code",
   "execution_count": 72,
   "metadata": {},
   "outputs": [],
   "source": [
    "def data_split(full_list):\n",
    "    n_total = len(full_list)\n",
    "    val_len = 3\n",
    "    test_len = 3\n",
    "    random.shuffle(full_list)\n",
    "    return full_list[0:3], full_list[3:6], full_list[6:]\n"
   ]
  },
  {
   "cell_type": "code",
   "execution_count": 76,
   "metadata": {},
   "outputs": [],
   "source": [
    "def get_img_ind(img_path):\n",
    "    return img_path.split(\"_\")[-1][:2]"
   ]
  },
  {
   "cell_type": "code",
   "execution_count": 81,
   "metadata": {},
   "outputs": [],
   "source": [
    "train_image_paths = []\n",
    "valid_image_paths = []\n",
    "test_image_paths = []"
   ]
  },
  {
   "cell_type": "code",
   "execution_count": 83,
   "metadata": {},
   "outputs": [],
   "source": [
    "for key in imgs.keys():\n",
    "    test_ind, valid_ind, train_ind = data_split(num)\n",
    "    for img in imgs[key]:\n",
    "        if get_img_ind(img) in test_ind:\n",
    "            test_image_paths.append(img)\n",
    "        elif get_img_ind(img) in valid_ind:\n",
    "            valid_image_paths.append(img)\n",
    "        elif get_img_ind(img) in train_ind:\n",
    "            train_image_paths.append(img)\n",
    "        else:\n",
    "            \"Wrong inds\""
   ]
  },
  {
   "cell_type": "code",
   "execution_count": 92,
   "metadata": {},
   "outputs": [],
   "source": [
    "img_paths = {}\n",
    "img_paths[\"train\"] = train_image_paths\n",
    "img_paths[\"val\"] = valid_image_paths\n",
    "img_paths[\"test\"] = test_image_paths"
   ]
  },
  {
   "cell_type": "code",
   "execution_count": 96,
   "metadata": {},
   "outputs": [],
   "source": [
    "with open(\"food_image_split.json\", \"w\") as f:\n",
    "    json.dump(img_paths, f)"
   ]
  },
  {
   "cell_type": "code",
   "execution_count": null,
   "metadata": {},
   "outputs": [],
   "source": []
  }
 ],
 "metadata": {
  "kernelspec": {
   "display_name": "check",
   "language": "python",
   "name": "python3"
  },
  "language_info": {
   "codemirror_mode": {
    "name": "ipython",
    "version": 3
   },
   "file_extension": ".py",
   "mimetype": "text/x-python",
   "name": "python",
   "nbconvert_exporter": "python",
   "pygments_lexer": "ipython3",
   "version": "3.7.11 (default, Jul 27 2021, 14:32:16) \n[GCC 7.5.0]"
  },
  "orig_nbformat": 4,
  "vscode": {
   "interpreter": {
    "hash": "bcc2b0a2984838715f1b6130eace08aaef1d79f78669f357ef05be9c25aaf8c7"
   }
  }
 },
 "nbformat": 4,
 "nbformat_minor": 2
}
