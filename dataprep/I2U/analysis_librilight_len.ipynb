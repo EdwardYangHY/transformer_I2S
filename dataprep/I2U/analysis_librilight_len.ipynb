{
 "cells": [
  {
   "cell_type": "code",
   "execution_count": 2,
   "metadata": {},
   "outputs": [],
   "source": [
    "import glob\n",
    "from collections import Counter\n",
    "import os\n",
    "import numpy as np\n",
    "from tqdm import tqdm\n",
    "import torch\n",
    "import sys\n",
    "import matplotlib.pyplot as plt\n",
    "import json"
   ]
  },
  {
   "cell_type": "code",
   "execution_count": 3,
   "metadata": {},
   "outputs": [],
   "source": [
    "libri_light_hubert = \"../../data/libri_light/libri_light_small_hbcaps.json\"\n",
    "libri_light_resdave = \"/net/papilio/storage2/yhaoyuan/LAbyLM/data/I2U/libri_light_small_captions.json\""
   ]
  },
  {
   "cell_type": "code",
   "execution_count": 4,
   "metadata": {},
   "outputs": [],
   "source": [
    "orign_hubert = \"/net/papilio/storage2/yhaoyuan/transformer_I2S/data/food_dataset_original_shuffle_hbcaps.json\"\n",
    "vc_hubert = \"/net/papilio/storage2/yhaoyuan/transformer_I2S/data/food_dataset_VC_shuffle_hbcaps.json\""
   ]
  },
  {
   "cell_type": "code",
   "execution_count": 19,
   "metadata": {},
   "outputs": [],
   "source": [
    "def read_dict(path):\n",
    "    with open(path, \"r\") as f:\n",
    "        unit_dict = json.load(f)\n",
    "    return unit_dict\n",
    "\n",
    "def analyze_len(data):\n",
    "    len_count = np.zeros(11)\n",
    "    # compare = np.linspace(100, 1000, 10)\n",
    "    for i, (k, v) in enumerate(data.items()):\n",
    "        len_cap = len(v)\n",
    "        if len_cap <= 100:\n",
    "            len_count[0] += 1\n",
    "        elif len_cap <= 200:\n",
    "            len_count[1] += 1\n",
    "        elif len_cap <= 300:\n",
    "            len_count[2] += 1\n",
    "        elif len_cap <= 400:\n",
    "            len_count[3] += 1\n",
    "        elif len_cap <= 500:\n",
    "            len_count[4] += 1\n",
    "        elif len_cap <= 600:\n",
    "            len_count[5] += 1\n",
    "        elif len_cap <= 700:\n",
    "            len_count[6] += 1\n",
    "        elif len_cap <= 800:\n",
    "            len_count[7] += 1\n",
    "        elif len_cap <= 900:\n",
    "            len_count[8] += 1\n",
    "        elif len_cap <= 1000:\n",
    "            len_count[9] += 1\n",
    "        else:\n",
    "            len_count[10] += 1\n",
    "    return len_count\n",
    "\n",
    "def analyze_len_(data):\n",
    "    len_count = np.zeros(5)\n",
    "    # compare = np.linspace(100, 1000, 10)\n",
    "    for i, (k, v) in enumerate(data.items()):\n",
    "        len_cap = len(v)\n",
    "        if len_cap <= 50:\n",
    "            len_count[0] += 1\n",
    "        elif len_cap <= 100:\n",
    "            len_count[1] += 1\n",
    "        elif len_cap <= 150:\n",
    "            len_count[2] += 1\n",
    "        elif len_cap <= 200:\n",
    "            len_count[3] += 1\n",
    "            print(len_cap)\n",
    "        else:\n",
    "            len_count[4] += 1\n",
    "    return len_count"
   ]
  },
  {
   "cell_type": "code",
   "execution_count": 24,
   "metadata": {},
   "outputs": [
    {
     "name": "stdout",
     "output_type": "stream",
     "text": [
      "157\n"
     ]
    }
   ],
   "source": [
    "data = read_dict(vc_hubert)\n",
    "lens = analyze_len_(data)\n",
    "x = np.linspace(50, 250, 5)\n",
    "    "
   ]
  },
  {
   "cell_type": "code",
   "execution_count": 25,
   "metadata": {},
   "outputs": [
    {
     "data": {
      "text/plain": [
       "array([3.000e+00, 2.820e+03, 1.136e+03, 1.000e+00, 0.000e+00])"
      ]
     },
     "execution_count": 25,
     "metadata": {},
     "output_type": "execute_result"
    }
   ],
   "source": [
    "lens"
   ]
  },
  {
   "cell_type": "code",
   "execution_count": 17,
   "metadata": {},
   "outputs": [
    {
     "data": {
      "text/plain": [
       "<BarContainer object of 5 artists>"
      ]
     },
     "execution_count": 17,
     "metadata": {},
     "output_type": "execute_result"
    },
    {
     "data": {
      "image/png": "[encoded data removed]",
      "text/plain": [
       "<Figure size 432x288 with 1 Axes>"
      ]
     },
     "metadata": {
      "needs_background": "light"
     },
     "output_type": "display_data"
    }
   ],
   "source": [
    "plt.bar(x, lens)"
   ]
  },
  {
   "cell_type": "code",
   "execution_count": 16,
   "metadata": {},
   "outputs": [
    {
     "data": {
      "text/plain": [
       "[<matplotlib.lines.Line2D at 0x7f4d29d7a580>]"
      ]
     },
     "execution_count": 16,
     "metadata": {},
     "output_type": "execute_result"
    },
    {
     "data": {
      "image/png": "[encoded data removed]",
      "text/plain": [
       "<Figure size 432x288 with 1 Axes>"
      ]
     },
     "metadata": {
      "needs_background": "light"
     },
     "output_type": "display_data"
    }
   ],
   "source": [
    "plt.plot(x, lens)"
   ]
  },
  {
   "cell_type": "code",
   "execution_count": null,
   "metadata": {},
   "outputs": [],
   "source": []
  }
 ],
 "metadata": {
  "kernelspec": {
   "display_name": "encodec-1.3",
   "language": "python",
   "name": "python3"
  },
  "language_info": {
   "codemirror_mode": {
    "name": "ipython",
    "version": 3
   },
   "file_extension": ".py",
   "mimetype": "text/x-python",
   "name": "python",
   "nbconvert_exporter": "python",
   "pygments_lexer": "ipython3",
   "version": "3.8.15"
  },
  "orig_nbformat": 4
 },
 "nbformat": 4,
 "nbformat_minor": 2
}
