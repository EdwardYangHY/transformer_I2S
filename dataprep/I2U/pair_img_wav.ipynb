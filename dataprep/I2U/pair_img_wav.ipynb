{
 "cells": [
  {
   "cell_type": "code",
   "execution_count": 1,
   "metadata": {},
   "outputs": [],
   "source": [
    "import pickle\n",
    "import json\n",
    "import numpy\n",
    "from glob import glob\n",
    "import random"
   ]
  },
  {
   "cell_type": "code",
   "execution_count": 32,
   "metadata": {},
   "outputs": [],
   "source": [
    "food_list={\n",
    "    'apple': '/14_apple',\n",
    "    'banana': '/03_banana',\n",
    "    'carrot': '/04_carrot',\n",
    "    'grape': '/18_grape',\n",
    "    'cucumber': '/15_cucumber',\n",
    "    'egg': '/08_egg',\n",
    "    'eggplant': '/05_eggplant',\n",
    "    'greenpepper': '/06_greenpepper',\n",
    "    'pea': '/17_pea',\n",
    "    'kiwi': '/10_kiwi',\n",
    "    'lemon': '/09_lemon',\n",
    "    'onion': '/13_onion',\n",
    "    'orange': '/00_orange',\n",
    "    'potatoes': '/12_potatoes',\n",
    "    'bread': '/16_bread',\n",
    "    'avocado': '/11_avocado',\n",
    "    'strawberry': '/19_strawberry',\n",
    "    'sweetpotato': '/02_sweetpotato',\n",
    "    'tomato': '/07_tomato',\n",
    "    'turnip': '/01_turnip'\n",
    "    #'orange02': '/orange02'\n",
    "}\n",
    "\n",
    "# food_id contains 'foodname: pos' pairs\n",
    "food_id={}\n",
    "i=1\n",
    "for key in food_list:\n",
    "    food_id[key]=i\n",
    "    i+=1\n",
    "\n",
    "colors=['bl','br','wh']\n",
    "numbers=['1','2','3']\n",
    "\n",
    "speaker_division={}\n",
    "speaker_division[\"train\"]=[3, 5, 11, 19, 29, 30, 36, 38, 142]\n",
    "speaker_division[\"val\"]=[3, 5, 11, 19, 29, 30, 36, 38, 142]\n",
    "speaker_division[\"test\"]=[144, 151]"
   ]
  },
  {
   "cell_type": "code",
   "execution_count": 33,
   "metadata": {},
   "outputs": [],
   "source": [
    "def get_image_info(image_path):\n",
    "    info=image_path.split(\"/\")[8]\n",
    "    name=info.split(\"_\")[0]\n",
    "    if name==\"orange\":\n",
    "        color=info.split(\"_\")[1]\n",
    "        number=info.split(\"_\")[2]\n",
    "    else:\n",
    "        color=info.split(\"_\")[1][0:-1]\n",
    "        number=info.split(\"_\")[1][-1]\n",
    "    return name, color, number\n",
    "\n",
    "def find_audio(img_path, mode_1, mode_2='unclean',form='wav'):\n",
    "    food_name, color, number = get_image_info(img_path)\n",
    "    basic_number=20*(food_id[food_name]-1)+2+(eval(number)-1)*6\n",
    "    # id_1 and id_2 describes all information\n",
    "    # id_3 only gives name with the right form\n",
    "    audio_base_path = \"/net/papilio/storage2/yhaoyuan/LAbyLM/audios_trimmed_select\"\n",
    "    captions = []\n",
    "    if color=='wh':\n",
    "        id_1=str(basic_number+1)\n",
    "        id_2=str(basic_number+2)\n",
    "    elif color=='bl':\n",
    "        id_1=str(basic_number+3)\n",
    "        id_2=str(basic_number+4)\n",
    "    elif color=='br':\n",
    "        id_1=str(basic_number+5)\n",
    "        id_2=str(basic_number+6)\n",
    "    else:\n",
    "        print(color)\n",
    "        print(img_path)\n",
    "        raise ValueError(\"Not recognized color\")\n",
    "    if number=='1':\n",
    "        id_3=str(20*(food_id[food_name]-1)+1)\n",
    "    else:\n",
    "        id_3=str(20*(food_id[food_name]-1)+2)\n",
    "    if mode_1 in [\"train\",\"val\",\"test\"]:\n",
    "        captions_1 = [f'/{str(speaker)}/{id_1}.wav' for speaker in speaker_division[mode_1]]\n",
    "        captions_2 = [f'/{str(speaker)}/{id_2}.wav' for speaker in speaker_division[mode_1]]\n",
    "        # caption_1=audio_source_path+'/'+str(choice(speaker_division[mode_1]))+'/'+id_1+'.'+form\n",
    "        # caption_2=audio_source_path+'/'+str(choice(speaker_division[mode_1]))+'/'+id_2+'.'+form\n",
    "        # caption_3=audio_source_path+'/'+str(choice(speaker_division[mode_1]))+'/'+id_3+'.'+form\n",
    "    else:\n",
    "        raise ValueError(\"Mode not recognized. Please choose from: train, valid, test.\")\n",
    "    #description_1=glob.glob(audio_source_path+'/*/'+id_1+'.'+form)\n",
    "    #description_2=glob.glob(audio_source_path+'/*/'+id_2+'.'+form)\n",
    "    #description_3=glob.glob(audio_source_path+'/*/'+id_3+'.'+form)\n",
    "    # caption_1=get_unit(caption_1)\n",
    "    # caption_2=get_unit(caption_2)\n",
    "    # caption_3=get_unit(caption_3)\n",
    "    # if mode_2=='clean':\n",
    "    #     return caption_1, caption_2\n",
    "    # if mode_2=='unclean':\n",
    "    #     return caption_3, caption_1, caption_2\n",
    "    return captions_1 + captions_2"
   ]
  },
  {
   "cell_type": "code",
   "execution_count": 34,
   "metadata": {},
   "outputs": [],
   "source": [
    "img_paths = \"../../data/food_image_split.json\"\n",
    "with open(img_paths, \"r\") as f:\n",
    "    img_paths = json.load(f)\n",
    "\n",
    "audio_base_path = \"/net/papilio/storage2/yhaoyuan/LAbyLM/audios_trimmed_select\"\n",
    "image_base_path = \"/net/tateha/storage2/database/spolacq/FoodImagesA\""
   ]
  },
  {
   "cell_type": "code",
   "execution_count": 35,
   "metadata": {},
   "outputs": [],
   "source": [
    "food_dataset = {}\n",
    "food_dataset[\"audio_base_path\"] = audio_base_path\n",
    "food_dataset[\"image_base_path\"] = image_base_path\n",
    "food_dataset[\"data\"] = {}"
   ]
  },
  {
   "cell_type": "code",
   "execution_count": 41,
   "metadata": {},
   "outputs": [],
   "source": [
    "for mode in [\"train\",\"val\",\"test\"]:\n",
    "    data_list = []\n",
    "    for img in img_paths[mode]:\n",
    "        data = {}\n",
    "        data[\"image\"] = img[len(image_base_path):]\n",
    "        data[\"audio\"] = find_audio(img, mode)\n",
    "        data_list.append(data)\n",
    "    food_dataset[\"data\"][mode] = data_list"
   ]
  },
  {
   "cell_type": "code",
   "execution_count": 48,
   "metadata": {},
   "outputs": [],
   "source": [
    "with open(\"food_dataset_VC.json\", \"w\") as f:\n",
    "    json.dump(food_dataset, f)"
   ]
  },
  {
   "cell_type": "code",
   "execution_count": 55,
   "metadata": {},
   "outputs": [],
   "source": [
    "# check the split\n",
    "import os\n",
    "for data in food_dataset[\"data\"][\"test\"]:\n",
    "    assert os.path.isfile(food_dataset[\"image_base_path\"]+data[\"image\"]), \"Not a valid audio file\"\n",
    "    assert os.path.isfile(food_dataset[\"audio_base_path\"]+data[\"audio\"][0]), \"Not a valid audio file\""
   ]
  },
  {
   "cell_type": "code",
   "execution_count": null,
   "metadata": {},
   "outputs": [],
   "source": []
  }
 ],
 "metadata": {
  "kernelspec": {
   "display_name": "encodec",
   "language": "python",
   "name": "python3"
  },
  "language_info": {
   "codemirror_mode": {
    "name": "ipython",
    "version": 3
   },
   "file_extension": ".py",
   "mimetype": "text/x-python",
   "name": "python",
   "nbconvert_exporter": "python",
   "pygments_lexer": "ipython3",
   "version": "3.8.15 (default, Nov 24 2022, 15:19:38) \n[GCC 11.2.0]"
  },
  "orig_nbformat": 4,
  "vscode": {
   "interpreter": {
    "hash": "094c9ae320a962664ae725268b2caa008c72eeabdfac83f71f78104cf05452c8"
   }
  }
 },
 "nbformat": 4,
 "nbformat_minor": 2
}
