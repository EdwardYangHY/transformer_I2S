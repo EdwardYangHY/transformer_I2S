{
 "cells": [
  {
   "cell_type": "code",
   "execution_count": 1,
   "metadata": {},
   "outputs": [],
   "source": [
    "import numpy as np\n",
    "import os\n",
    "import matplotlib.pyplot as plt\n",
    "import sys\n",
    "from PIL import Image"
   ]
  },
  {
   "attachments": {},
   "cell_type": "markdown",
   "metadata": {},
   "source": [
    "### Here we try to present The Plots"
   ]
  },
  {
   "cell_type": "code",
   "execution_count": 2,
   "metadata": {},
   "outputs": [],
   "source": [
    "# def plot_one(ax, npz_file, color=None):\n",
    "#     a = np.load(npz_file)\n",
    "#     assert len(a[\"timesteps\"]) == len(a[\"results\"])\n",
    "#     x = a[\"timesteps\"]\n",
    "#     y = [rewards.mean() for rewards in a[\"results\"][:]]\n",
    "#     if color is not None:\n",
    "#         ax.plot(x, y, color = color)\n",
    "#     else:\n",
    "#         ax.plot(x, y)\n",
    "#     return\n",
    "\n",
    "def plt_plot_one(npz_file, color=None):\n",
    "    a = np.load(npz_file)\n",
    "    assert len(a[\"timesteps\"]) == len(a[\"results\"])\n",
    "    x = a[\"timesteps\"]\n",
    "    y = [rewards.mean() for rewards in a[\"results\"][:]]\n",
    "    print(y)\n",
    "    if color is not None:\n",
    "        plt.plot(x, y, color = color)\n",
    "    else:\n",
    "        plt.plot(x, y)\n",
    "    return\n",
    "\n",
    "def plot_dict(dict):\n",
    "    for k in dict.keys():\n",
    "        plt_plot_one(dict[k][0], dict[k][1])\n",
    "    return"
   ]
  },
  {
   "cell_type": "code",
   "execution_count": 3,
   "metadata": {},
   "outputs": [],
   "source": [
    "# npz_path = \"/net/papilio/storage2/yhaoyuan/transformer_I2S/egs/RL_1_3/logs_reproduce_2048_no_sentence/evaluations.npz\"\n",
    "# npz_path = \"/net/papilio/storage2/yhaoyuan/transformer_I2S/egs/RL_1_3/logs_ddpg_hard_img/evaluations.npz\"\n",
    "g = \"gainsboro\"\n",
    "r = \"red\"\n",
    "npz_paths_reproduce = {}\n",
    "npz_paths_reproduce[\"logs_reproduce_50_no_sentence\"] = [\"./results/logs_reproduce_50_no_sentence/evaluations.npz\", g]\n",
    "npz_paths_reproduce[\"logs_reproduce_2048_no_sentence\"] = [\"./results/logs_reproduce_2048_no_sentence/evaluations.npz\", g]\n",
    "npz_paths_reproduce[\"logs_reproduce_50\"] = [\"./results/logs_reproduce_50/evaluations.npz\", g]\n",
    "npz_paths_reproduce[\"logs_reproduce_2048\"] = [\"./results/logs_reproduce_2048/evaluations.npz\", g]\n",
    "\n",
    "npz_paths_new = {}\n",
    "npz_paths_new[\"logs_ddpg_hard_img\"] = [\"./results/logs_ddpg_hard_img/evaluations.npz\", g]\n",
    "npz_paths_new[\"logs_ddpg_hard_img_no_sentence\"] = [\"./results/logs_ddpg_hard_img_no_sentence/evaluations.npz\", g]\n",
    "npz_paths_new[\"logs_ddpg_soft_img_no_sentence\"] = [\"./results/logs_ddpg_soft_img_no_sentence/evaluations.npz\", g]\n",
    "npz_paths_new[\"logs_ddpg_record_choosepos\"] = [\"./results/logs_ddpg_record_choosepos/evaluations.npz\", g]\n",
    "npz_paths_new[\"logs_ddpg_new_fixed_image_no_sentence\"] = [\"./results/logs_ddpg_new_fixed_image_no_sentence/evaluations.npz\", r]\n",
    "npz_paths_new[\"logs_ddpg_new_fixed_image_8_sentence\"] = [\"./results/logs_ddpg_new_fixed_image_8_sentence/evaluations.npz\", \"b\"]\n",
    "\n",
    "npz_paths_hubert = {}\n",
    "# npz_paths_hubert[\"logs_ddpg_256_hubert_no_sentence\"] = [\"./logs_ddpg_256_hubert_no_sentence/evaluations.npz\", g]\n",
    "# npz_paths_hubert[\"logs_ddpg_256_hubert_no_sentence_hard\"] = [\"./logs_ddpg_256_hubert_no_sentence_hard/evaluations.npz\", g]\n",
    "# npz_paths_hubert[\"logs_ddpg_256_hubert_no_sentence_sanity\"] = [\"./logs_ddpg_256_hubert_no_sentence_sanity/evaluations.npz\", r]\n",
    "# npz_paths_hubert[\"logs_ddpg_256_hubert_no_sentence_sanity_no_norm\"] = [\"./logs_ddpg_256_hubert_no_sentence_sanity_no_norm/evaluations.npz\", r]\n",
    "# npz_paths_hubert[\"logs_ddpg_256_hubert_no_sentence_sanity_pos\"] = [\"./logs_ddpg_256_hubert_no_sentence_sanity_pos/evaluations.npz\", r]\n",
    "npz_paths_hubert[\"logs_ddpg_256_baseline_VC_no_sentence_pos\"] = [\"./results/logs_ddpg_256_baseline_VC_no_sentence_pos/evaluations.npz\", \"b\"]\n",
    "npz_paths_hubert[\"logs_ddpg_256_hubert_VC_no_sentence_pos\"] = [\"./results/logs_ddpg_256_hubert_VC_no_sentence_pos/evaluations.npz\", 'r']\n"
   ]
  },
  {
   "cell_type": "code",
   "execution_count": 4,
   "metadata": {},
   "outputs": [
    {
     "name": "stdout",
     "output_type": "stream",
     "text": [
      "[0.332, 0.368, 0.439, 0.486, 0.51, 0.52, 0.527, 0.57, 0.578, 0.553, 0.559, 0.591, 0.583, 0.568, 0.546, 0.591, 0.594, 0.572, 0.573, 0.57, 0.583, 0.581, 0.578, 0.553, 0.591, 0.569, 0.574, 0.564, 0.588, 0.558, 0.59, 0.576, 0.566, 0.57, 0.573, 0.577, 0.569, 0.578, 0.583, 0.563, 0.589, 0.563, 0.584]\n",
      "[0.424, 0.452, 0.471, 0.531, 0.531, 0.593, 0.662, 0.678, 0.654, 0.713, 0.696, 0.716, 0.716, 0.714, 0.709, 0.72, 0.719, 0.714, 0.685, 0.707, 0.76, 0.737, 0.739, 0.714, 0.719, 0.731, 0.749, 0.742, 0.749, 0.738, 0.736, 0.724, 0.765, 0.746, 0.727, 0.711, 0.75, 0.736, 0.735, 0.748, 0.742, 0.727, 0.755, 0.738, 0.755, 0.697, 0.752, 0.737, 0.772, 0.78]\n"
     ]
    },
    {
     "data": {
      "image/png": "[encoded data removed]",
      "text/plain": [
       "<Figure size 432x288 with 1 Axes>"
      ]
     },
     "metadata": {
      "needs_background": "light"
     },
     "output_type": "display_data"
    }
   ],
   "source": [
    "# Set figure\n",
    "plt.figure()\n",
    "plt.xlim([0,50000])\n",
    "plt.ylim([0,1])\n",
    "plt.xticks(np.linspace(0, 50000, 11))\n",
    "plt.yticks(np.linspace(0, 1, 11))\n",
    "plt.xlabel(\"Steps\")\n",
    "plt.ylabel(\"Rewards\")\n",
    "plt.title(\"New Experiments\")\n",
    "# ax.set_xsticks\n",
    "\n",
    "plt.grid(which=\"major\", alpha = 0.5)\n",
    "plt.grid(which=\"minor\", alpha = 0.1)\n",
    "plot_dict(npz_paths_hubert)\n",
    "# plt_plot_one(npz_path, 'gainsboro')\n"
   ]
  },
  {
   "cell_type": "code",
   "execution_count": null,
   "metadata": {},
   "outputs": [],
   "source": []
  }
 ],
 "metadata": {
  "kernelspec": {
   "display_name": "encodec-1.3",
   "language": "python",
   "name": "python3"
  },
  "language_info": {
   "codemirror_mode": {
    "name": "ipython",
    "version": 3
   },
   "file_extension": ".py",
   "mimetype": "text/x-python",
   "name": "python",
   "nbconvert_exporter": "python",
   "pygments_lexer": "ipython3",
   "version": "3.8.15"
  },
  "orig_nbformat": 4,
  "vscode": {
   "interpreter": {
    "hash": "f3533e64601b254dacaa9c268c9ab5d42dc0994555240d8afdbbd46ece987524"
   }
  }
 },
 "nbformat": 4,
 "nbformat_minor": 2
}
