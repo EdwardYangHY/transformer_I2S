{
 "cells": [
  {
   "cell_type": "code",
   "execution_count": 1,
   "metadata": {},
   "outputs": [],
   "source": [
    "import numpy as np\n",
    "import os\n",
    "import matplotlib.pyplot as plt\n",
    "import sys\n",
    "from PIL import Image"
   ]
  },
  {
   "attachments": {},
   "cell_type": "markdown",
   "metadata": {},
   "source": [
    "### Here we try to present The Plots"
   ]
  },
  {
   "cell_type": "code",
   "execution_count": 2,
   "metadata": {},
   "outputs": [],
   "source": [
    "# def plot_one(ax, npz_file, color=None):\n",
    "#     a = np.load(npz_file)\n",
    "#     assert len(a[\"timesteps\"]) == len(a[\"results\"])\n",
    "#     x = a[\"timesteps\"]\n",
    "#     y = [rewards.mean() for rewards in a[\"results\"][:]]\n",
    "#     if color is not None:\n",
    "#         ax.plot(x, y, color = color)\n",
    "#     else:\n",
    "#         ax.plot(x, y)\n",
    "#     return\n",
    "\n",
    "def plt_plot_one(npz_file, color=None, label=None):\n",
    "    a = np.load(npz_file)\n",
    "    assert len(a[\"timesteps\"]) == len(a[\"results\"])\n",
    "    x = a[\"timesteps\"]\n",
    "    y = [rewards.mean() for rewards in a[\"results\"][:]]\n",
    "    # print(sum(y[-5:])/5)\n",
    "    print(y)\n",
    "    if color is not None:\n",
    "        if label is not None:\n",
    "            plt.plot(x, y, color = color, label=label)\n",
    "        else:\n",
    "            plt.plot(x, y, color = color)\n",
    "    else:\n",
    "        plt.plot(x, y)\n",
    "    return\n",
    "\n",
    "def plot_dict(dict):\n",
    "    for k in dict.keys():\n",
    "        plt_plot_one(dict[k][0], dict[k][1], dict[k][2])\n",
    "    return"
   ]
  },
  {
   "cell_type": "code",
   "execution_count": 3,
   "metadata": {},
   "outputs": [],
   "source": [
    "# npz_path = \"/net/papilio/storage2/yhaoyuan/transformer_I2S/egs/RL_1_3/logs_reproduce_2048_no_sentence/evaluations.npz\"\n",
    "# npz_path = \"/net/papilio/storage2/yhaoyuan/transformer_I2S/egs/RL_1_3/logs_ddpg_hard_img/evaluations.npz\"\n",
    "g = \"gainsboro\"\n",
    "r = \"red\"\n",
    "npz_paths_reproduce = {}\n",
    "npz_paths_reproduce[\"logs_reproduce_50_no_sentence\"] = [\"./results/logs_reproduce_50_no_sentence/evaluations.npz\", g]\n",
    "npz_paths_reproduce[\"logs_reproduce_2048_no_sentence\"] = [\"./results/logs_reproduce_2048_no_sentence/evaluations.npz\", g]\n",
    "npz_paths_reproduce[\"logs_reproduce_50\"] = [\"./results/logs_reproduce_50/evaluations.npz\", g]\n",
    "npz_paths_reproduce[\"logs_reproduce_2048\"] = [\"./results/logs_reproduce_2048/evaluations.npz\", g]\n",
    "\n",
    "npz_paths_new = {}\n",
    "npz_paths_new[\"logs_ddpg_hard_img\"] = [\"./results/logs_ddpg_hard_img/evaluations.npz\", g]\n",
    "npz_paths_new[\"logs_ddpg_hard_img_no_sentence\"] = [\"./results/logs_ddpg_hard_img_no_sentence/evaluations.npz\", g]\n",
    "npz_paths_new[\"logs_ddpg_soft_img_no_sentence\"] = [\"./results/logs_ddpg_soft_img_no_sentence/evaluations.npz\", g]\n",
    "npz_paths_new[\"logs_ddpg_record_choosepos\"] = [\"./results/logs_ddpg_record_choosepos/evaluations.npz\", g]\n",
    "npz_paths_new[\"logs_ddpg_new_fixed_image_no_sentence\"] = [\"./results/logs_ddpg_new_fixed_image_no_sentence/evaluations.npz\", r]\n",
    "npz_paths_new[\"logs_ddpg_new_fixed_image_8_sentence\"] = [\"./results/logs_ddpg_new_fixed_image_8_sentence/evaluations.npz\", \"b\"]\n",
    "\n",
    "npz_paths_hubert = {}\n",
    "# npz_paths_hubert[\"logs_ddpg_256_hubert_no_sentence\"] = [\"./logs_ddpg_256_hubert_no_sentence/evaluations.npz\", g]\n",
    "# npz_paths_hubert[\"logs_ddpg_256_hubert_no_sentence_hard\"] = [\"./logs_ddpg_256_hubert_no_sentence_hard/evaluations.npz\", g]\n",
    "# npz_paths_hubert[\"logs_ddpg_256_hubert_no_sentence_sanity\"] = [\"./logs_ddpg_256_hubert_no_sentence_sanity/evaluations.npz\", r]\n",
    "# npz_paths_hubert[\"logs_ddpg_256_hubert_no_sentence_sanity_no_norm\"] = [\"./logs_ddpg_256_hubert_no_sentence_sanity_no_norm/evaluations.npz\", r]\n",
    "# npz_paths_hubert[\"logs_ddpg_256_hubert_no_sentence_sanity_pos\"] = [\"./logs_ddpg_256_hubert_no_sentence_sanity_pos/evaluations.npz\", r]\n",
    "npz_paths_hubert[\"logs_ddpg_256_baseline_VC_no_sentence_pos\"] = [\"./results/logs_ddpg_256_baseline_VC_no_sentence_pos/evaluations.npz\", \"b\"]\n",
    "npz_paths_hubert[\"logs_ddpg_256_hubert_VC_no_sentence_pos\"] = [\"./results/logs_ddpg_256_hubert_VC_no_sentence_pos/evaluations.npz\", 'r']\n",
    "\n",
    "npz_paths_sentence_hubert = {}\n",
    "npz_paths_sentence_hubert[\"Origin_No_Embed_Codec\"] = [\"./results/logs_all_info_no_embed_codec/evaluations.npz\", \"C0\", \"Mode_1_Codec\"]\n",
    "npz_paths_sentence_hubert[\"Origin_No_Embed_Prefix\"] = [\"./results/logs_all_info_no_embed_prefix/evaluations.npz\", \"C1\", \"Mode_1_Prefix\"]\n",
    "# npz_paths_sentence_hubert[\"Sen_No_Embed_Codec\"] = [\"./results/logs_part_info_no_embed_codec/evaluations.npz\", g, \"\"]\n",
    "npz_paths_sentence_hubert[\"Sen_8_Embed_Codec\"] = [\"./results/logs_part_info_8_embed_codec/evaluations.npz\", \"C2\", \"Mode_2_Codec\"]\n",
    "npz_paths_sentence_hubert[\"Sen_8_Embed_Prefix\"] = [\"./results/logs_part_info_8_embed_prefix/evaluations.npz\", \"C3\", \"Mode_2_Prefix\"]\n",
    "# npz_paths_sentence_hubert[\"Sen_8_Embed_Codec_3\"] = [\"./results/logs_part_info_8_embed_codec_3_caps/evaluations.npz\", \"C4\", \"Mode_3_Codec\"]\n",
    "# npz_paths_sentence_hubert[\"Sen_8_Embed_Prefix_3\"] = [\"./results/logs_part_info_8_embed_prefix_3_caps/evaluations.npz\", \"C5\", \"Mode_3_Prefix\"]\n",
    "npz_paths_sentence_hubert[\"Sen_8_Embed_Prefix_half_lr\"] = [\"./results/logs_part_info_8_embed_codec_half_lr\", \"r\", \"Mode_2_half_lr\"]\n",
    "\n",
    "npz_paths_emnlp = {}\n",
    "npz_paths_emnlp[\"Baseline\"] = [\"./results/logs_emnlp_codec_baseline_pikaia19/evaluations.npz\", \"C0\", \"Baseline_8*8\"]\n",
    "# npz_paths_emnlp[\"Baseline_7\"] = [\"./results/logs_emnlp_codec_baseline_7*7_pikaia23/evaluations.npz\", \"C1\", \"Baseline_7*7\"]\n",
    "npz_paths_emnlp[\"Prefix_8\"] = [\"./results/logs_emnlp_codec_prefix_8*8_pikaia25/evaluations.npz\", \"C2\", \"Prefix_8\"]\n",
    "npz_paths_emnlp[\"Prefix_8_10_percent\"] = [\"./results/logs_emnlp_prefix_10_percent_pikaia24/evaluations.npz\", \"C3\", \"Prefix_8_10_percent\"]\n",
    "npz_paths_emnlp[\"Prefix_8_20_percent\"] = [\"./results/logs_emnlp_prefix_20_percent_pikaia28/evaluations.npz\", \"C4\", \"Prefix_8_20_percent\"]\n",
    "npz_paths_emnlp[\"BBB\"] = [\"/net/papilio/storage2/yhaoyuan/transformer_I2S/egs/RL_1_3/prev_results/logs_ddpg_soft_img_no_sentence/evaluations.npz\", \"C5\", \"BBB\"]\n",
    "# npz_paths_emnlp[\"Baseline_dim_50\"] = [\"./results/logs_emnlp_baseline_rl_dim_50_pikaia31/evaluations.npz\", \"C5\", \"baseline_50\"]\n",
    "\n",
    "npz_paths_graduation = {}\n",
    "npz_paths_graduation[\"Baseline\"] = [\"./results/logs_all_info_no_embed_codec/evaluations.npz\", \"C0\", \"Baseline\"]\n",
    "npz_paths_graduation[\"Prefix\"] = [\"./results/logs_all_info_no_embed_prefix/evaluations.npz\", \"C1\", \"Proposed\"]"
   ]
  },
  {
   "cell_type": "code",
   "execution_count": 7,
   "metadata": {},
   "outputs": [
    {
     "name": "stdout",
     "output_type": "stream",
     "text": [
      "[0.461, 0.538, 0.61, 0.636, 0.664, 0.69, 0.678, 0.672, 0.68, 0.7, 0.695, 0.717, 0.697, 0.689, 0.675, 0.696, 0.685, 0.707, 0.701, 0.699, 0.735, 0.718, 0.697, 0.742, 0.706, 0.721, 0.701, 0.71, 0.728, 0.72, 0.709, 0.69, 0.719, 0.721, 0.698, 0.704, 0.688, 0.718, 0.728, 0.69, 0.686, 0.698, 0.742, 0.704, 0.719, 0.696, 0.748, 0.711, 0.739, 0.719]\n",
      "[0.547, 0.608, 0.657, 0.709, 0.71, 0.684, 0.746, 0.721, 0.728, 0.755, 0.751, 0.749, 0.734, 0.785, 0.766, 0.759, 0.769, 0.791, 0.763, 0.763, 0.787, 0.802, 0.762, 0.766, 0.767, 0.774, 0.779, 0.775, 0.778, 0.753, 0.772, 0.752, 0.775, 0.802, 0.769, 0.789]\n"
     ]
    },
    {
     "data": {
      "image/png": "[encoded data removed]",
      "text/plain": [
       "<Figure size 432x288 with 1 Axes>"
      ]
     },
     "metadata": {
      "needs_background": "light"
     },
     "output_type": "display_data"
    }
   ],
   "source": [
    "# Set figure\n",
    "x_range = 35000\n",
    "y_range = 0.9\n",
    "intervals = int(y_range/0.1 + 1)\n",
    "plt.figure()\n",
    "plt.xlim([0,x_range])\n",
    "plt.ylim([-0.1,y_range])\n",
    "plt.xticks(np.linspace(0, x_range, 8))\n",
    "plt.yticks(np.linspace(0, y_range, 10))\n",
    "plt.xlabel(\"Steps\")\n",
    "plt.ylabel(\"Rewards\")\n",
    "plt.title(\"\")\n",
    "# ax.set_xsticks\n",
    "\n",
    "plt.grid(which=\"major\", alpha = 0.5)\n",
    "plt.grid(which=\"minor\", alpha = 0.1)\n",
    "plot_dict(npz_paths_graduation)\n",
    "plt.legend()\n",
    "plt.savefig(\"Results_ASJ.pdf\", bbox_inches='tight')\n",
    "# plt_plot_one(npz_path, 'gainsboro')\n"
   ]
  },
  {
   "cell_type": "code",
   "execution_count": 15,
   "metadata": {},
   "outputs": [],
   "source": [
    "import numpy"
   ]
  },
  {
   "cell_type": "code",
   "execution_count": 3,
   "metadata": {},
   "outputs": [],
   "source": [
    "import h5py"
   ]
  },
  {
   "cell_type": "code",
   "execution_count": 4,
   "metadata": {},
   "outputs": [
    {
     "data": {
      "text/plain": [
       "'1.21.0'"
      ]
     },
     "execution_count": 4,
     "metadata": {},
     "output_type": "execute_result"
    }
   ],
   "source": [
    "numpy.__version__"
   ]
  },
  {
   "cell_type": "code",
   "execution_count": 6,
   "metadata": {},
   "outputs": [
    {
     "name": "stderr",
     "output_type": "stream",
     "text": [
      "2023-06-17 19:25:26.244156: I tensorflow/core/platform/cpu_feature_guard.cc:193] This TensorFlow binary is optimized with oneAPI Deep Neural Network Library (oneDNN) to use the following CPU instructions in performance-critical operations:  AVX2 FMA\n",
      "To enable them in other operations, rebuild TensorFlow with the appropriate compiler flags.\n",
      "2023-06-17 19:25:30.096649: W tensorflow/compiler/xla/stream_executor/platform/default/dso_loader.cc:64] Could not load dynamic library 'libnvinfer.so.7'; dlerror: libnvinfer.so.7: cannot open shared object file: No such file or directory\n",
      "2023-06-17 19:25:30.097059: W tensorflow/compiler/xla/stream_executor/platform/default/dso_loader.cc:64] Could not load dynamic library 'libnvinfer_plugin.so.7'; dlerror: libnvinfer_plugin.so.7: cannot open shared object file: No such file or directory\n",
      "2023-06-17 19:25:30.097066: W tensorflow/compiler/tf2tensorrt/utils/py_utils.cc:38] TF-TRT Warning: Cannot dlopen some TensorRT libraries. If you would like to use Nvidia GPU with TensorRT, please make sure the missing libraries mentioned above are installed properly.\n"
     ]
    }
   ],
   "source": [
    "import tensorflow"
   ]
  },
  {
   "cell_type": "code",
   "execution_count": null,
   "metadata": {},
   "outputs": [],
   "source": []
  }
 ],
 "metadata": {
  "kernelspec": {
   "display_name": "encodec-1.3",
   "language": "python",
   "name": "python3"
  },
  "language_info": {
   "codemirror_mode": {
    "name": "ipython",
    "version": 3
   },
   "file_extension": ".py",
   "mimetype": "text/x-python",
   "name": "python",
   "nbconvert_exporter": "python",
   "pygments_lexer": "ipython3",
   "version": "3.8.15"
  },
  "orig_nbformat": 4,
  "vscode": {
   "interpreter": {
    "hash": "f3533e64601b254dacaa9c268c9ab5d42dc0994555240d8afdbbd46ece987524"
   }
  }
 },
 "nbformat": 4,
 "nbformat_minor": 2
}
