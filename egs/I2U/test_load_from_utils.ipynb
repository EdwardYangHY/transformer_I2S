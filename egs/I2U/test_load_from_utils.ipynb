{
 "cells": [
  {
   "cell_type": "code",
   "execution_count": 1,
   "metadata": {},
   "outputs": [],
   "source": [
    "import datetime\n",
    "from glob import glob\n",
    "import json\n",
    "import os\n",
    "import sys\n",
    "import yaml\n",
    "from tqdm import tqdm\n",
    "import argparse\n",
    "\n",
    "import numpy as np\n",
    "import h5py\n",
    "from PIL import Image\n",
    "import resampy\n",
    "import torch\n",
    "from torchvision import transforms"
   ]
  },
  {
   "cell_type": "code",
   "execution_count": 2,
   "metadata": {},
   "outputs": [],
   "source": [
    "from utils_i2u import load_hifigan, load_tacotron, load_tacotron_hubert, load_asr\n",
    "from judge_asr import judge_ans"
   ]
  },
  {
   "cell_type": "code",
   "execution_count": 4,
   "metadata": {},
   "outputs": [],
   "source": [
    "with open('../../config.yml') as yml:\n",
    "        config = yaml.safe_load(yml)\n",
    "    \n",
    "global device\n",
    "device = torch.device(\"cuda\" if torch.cuda.is_available() else \"cpu\")\n",
    "\n",
    "tacotron_max_decoder_step = config[\"u2s\"][\"max_decoder_steps\"]\n",
    "tacotron_checkpoint_path = config[\"u2s\"][\"tacotron2\"]\n",
    "hifigan_checkpoint_path = config[\"u2s\"]['hifigan']\n",
    "asr_checkpoint_path = config[\"asr\"][\"model_path\"]"
   ]
  },
  {
   "cell_type": "code",
   "execution_count": 5,
   "metadata": {},
   "outputs": [
    {
     "name": "stderr",
     "output_type": "stream",
     "text": [
      "Special tokens have been added in the vocabulary, make sure the associated word embeddings are fine-tuned or trained.\n"
     ]
    },
    {
     "name": "stdout",
     "output_type": "stream",
     "text": [
      "Removing weight norm...\n"
     ]
    }
   ],
   "source": [
    "tacotron_model = load_tacotron(tacotron_checkpoint_path, tacotron_max_decoder_step)\n",
    "hifigan_model = load_hifigan(hifigan_checkpoint_path, device)\n",
    "asr_model, asr_processor = load_asr(asr_checkpoint_path, device)"
   ]
  },
  {
   "cell_type": "code",
   "execution_count": null,
   "metadata": {},
   "outputs": [],
   "source": []
  }
 ],
 "metadata": {
  "kernelspec": {
   "display_name": "encodec-1.3",
   "language": "python",
   "name": "python3"
  },
  "language_info": {
   "codemirror_mode": {
    "name": "ipython",
    "version": 3
   },
   "file_extension": ".py",
   "mimetype": "text/x-python",
   "name": "python",
   "nbconvert_exporter": "python",
   "pygments_lexer": "ipython3",
   "version": "3.8.15"
  },
  "orig_nbformat": 4
 },
 "nbformat": 4,
 "nbformat_minor": 2
}
