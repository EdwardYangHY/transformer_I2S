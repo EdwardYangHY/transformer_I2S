{
 "cells": [
  {
   "cell_type": "code",
   "execution_count": 1,
   "metadata": {},
   "outputs": [],
   "source": [
    "import torch\n",
    "import torch.nn.functional as F\n",
    "from torch.nn.functional import (\n",
    "    _mha_shape_check, _in_projection_packed, _in_projection, pad, softmax, dropout, linear\n",
    "    )\n",
    "from torch.nn.modules.activation import MultiheadAttention\n",
    "import uuid\n",
    "from typing import Dict, Optional\n",
    "\n",
    "from torch import Tensor\n",
    "from torch.overrides import (\n",
    "    has_torch_function, has_torch_function_unary, has_torch_function_variadic,\n",
    "    handle_torch_function)"
   ]
  },
  {
   "cell_type": "code",
   "execution_count": 13,
   "metadata": {},
   "outputs": [],
   "source": [
    "class FairseqIncrementalState(object):\n",
    "    def __init__(self, *args, **kwargs):\n",
    "        super().__init__(*args, **kwargs)\n",
    "        self.init_incremental_state()\n",
    "\n",
    "    def init_incremental_state(self):\n",
    "        self._incremental_state_id = str(uuid.uuid4())\n",
    "\n",
    "    def _get_full_incremental_state_key(self, key: str) -> str:\n",
    "        return \"{}.{}\".format(self._incremental_state_id, key)\n",
    "\n",
    "    def get_incremental_state(\n",
    "        self,\n",
    "        incremental_state: Optional[Dict[str, Dict[str, Optional[Tensor]]]],\n",
    "        key: str,\n",
    "    ) -> Optional[Dict[str, Optional[Tensor]]]:\n",
    "        \"\"\"Helper for getting incremental state for an nn.Module.\"\"\"\n",
    "        full_key = self._get_full_incremental_state_key(key)\n",
    "        if incremental_state is None or full_key not in incremental_state:\n",
    "            return None\n",
    "        return incremental_state[full_key]\n",
    "\n",
    "    def set_incremental_state(\n",
    "        self,\n",
    "        incremental_state: Optional[Dict[str, Dict[str, Optional[Tensor]]]],\n",
    "        key: str,\n",
    "        value: Dict[str, Optional[Tensor]],\n",
    "    ) -> Optional[Dict[str, Dict[str, Optional[Tensor]]]]:\n",
    "        \"\"\"Helper for setting incremental state for an nn.Module.\"\"\"\n",
    "        if incremental_state is not None:\n",
    "            full_key = self._get_full_incremental_state_key(key)\n",
    "            print(full_key)\n",
    "            incremental_state[full_key] = value\n",
    "        return incremental_state\n",
    "\n",
    "# @with_incremental_state\n",
    "# as decorator, so the decorated class would also obtain those functions.\n",
    "def with_incremental_state(cls):\n",
    "    cls.__bases__ = (FairseqIncrementalState,) + tuple(\n",
    "        b for b in cls.__bases__ if b != FairseqIncrementalState\n",
    "    )\n",
    "    return cls"
   ]
  },
  {
   "cell_type": "code",
   "execution_count": 27,
   "metadata": {},
   "outputs": [
    {
     "data": {
      "text/plain": [
       "'ae925387-78b6-4fd6-9526-eefad65d17bb'"
      ]
     },
     "execution_count": 27,
     "metadata": {},
     "output_type": "execute_result"
    }
   ],
   "source": [
    "incremental_decoder = FairseqIncrementalState()\n",
    "incremental_decoder._incremental_state_id"
   ]
  },
  {
   "cell_type": "code",
   "execution_count": 28,
   "metadata": {},
   "outputs": [],
   "source": [
    "inremental_state = {}\n",
    "k_v = {\n",
    "    \"prev_key\": 101,\n",
    "    \"prev_value\": 100\n",
    "}"
   ]
  },
  {
   "cell_type": "code",
   "execution_count": 31,
   "metadata": {},
   "outputs": [
    {
     "name": "stdout",
     "output_type": "stream",
     "text": [
      "ae925387-78b6-4fd6-9526-eefad65d17bb.dict_keys(['prev_key', 'prev_value'])\n"
     ]
    },
    {
     "data": {
      "text/plain": [
       "{'ae925387-78b6-4fd6-9526-eefad65d17bb.ae925387-78b6-4fd6-9526-eefad65d17bb': {'prev_key': 101,\n",
       "  'prev_value': 100},\n",
       " \"ae925387-78b6-4fd6-9526-eefad65d17bb.dict_keys(['prev_key', 'prev_value'])\": dict_values([101, 100])}"
      ]
     },
     "execution_count": 31,
     "metadata": {},
     "output_type": "execute_result"
    }
   ],
   "source": [
    "incremental_decoder.set_incremental_state(inremental_state, k_v.keys(), k_v.values())"
   ]
  },
  {
   "cell_type": "code",
   "execution_count": 32,
   "metadata": {},
   "outputs": [
    {
     "data": {
      "text/plain": [
       "{'ae925387-78b6-4fd6-9526-eefad65d17bb.ae925387-78b6-4fd6-9526-eefad65d17bb': {'prev_key': 101,\n",
       "  'prev_value': 100},\n",
       " \"ae925387-78b6-4fd6-9526-eefad65d17bb.dict_keys(['prev_key', 'prev_value'])\": dict_values([101, 100])}"
      ]
     },
     "execution_count": 32,
     "metadata": {},
     "output_type": "execute_result"
    }
   ],
   "source": [
    "inremental_state"
   ]
  },
  {
   "cell_type": "code",
   "execution_count": 37,
   "metadata": {},
   "outputs": [
    {
     "data": {
      "text/plain": [
       "{'prev_key': 101, 'prev_value': 100}"
      ]
     },
     "execution_count": 37,
     "metadata": {},
     "output_type": "execute_result"
    }
   ],
   "source": [
    "incremental_decoder.get_incremental_state(inremental_state, \"ae925387-78b6-4fd6-9526-eefad65d17bb\")"
   ]
  },
  {
   "cell_type": "code",
   "execution_count": 36,
   "metadata": {},
   "outputs": [
    {
     "data": {
      "text/plain": [
       "{'ae925387-78b6-4fd6-9526-eefad65d17bb.ae925387-78b6-4fd6-9526-eefad65d17bb': {'prev_key': 101,\n",
       "  'prev_value': 100},\n",
       " \"ae925387-78b6-4fd6-9526-eefad65d17bb.dict_keys(['prev_key', 'prev_value'])\": dict_values([101, 100])}"
      ]
     },
     "execution_count": 36,
     "metadata": {},
     "output_type": "execute_result"
    }
   ],
   "source": [
    "inremental_state"
   ]
  },
  {
   "cell_type": "code",
   "execution_count": null,
   "metadata": {},
   "outputs": [],
   "source": []
  }
 ],
 "metadata": {
  "kernelspec": {
   "display_name": "encodec-1.3",
   "language": "python",
   "name": "python3"
  },
  "language_info": {
   "codemirror_mode": {
    "name": "ipython",
    "version": 3
   },
   "file_extension": ".py",
   "mimetype": "text/x-python",
   "name": "python",
   "nbconvert_exporter": "python",
   "pygments_lexer": "ipython3",
   "version": "3.8.15"
  },
  "orig_nbformat": 4
 },
 "nbformat": 4,
 "nbformat_minor": 2
}
