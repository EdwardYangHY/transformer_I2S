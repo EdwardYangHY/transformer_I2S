{
 "cells": [
  {
   "cell_type": "code",
   "execution_count": 1,
   "metadata": {},
   "outputs": [],
   "source": [
    "import argparse\n",
    "import logging\n",
    "import os\n",
    "\n",
    "import soundfile as sf\n",
    "# from examples.textless_nlp.gslm.unit2speech.tts_data import (\n",
    "#     TacotronInputDataset,\n",
    "# )\n",
    "# from examples.textless_nlp.gslm.unit2speech.utils import (\n",
    "#     load_quantized_audio_from_file,\n",
    "#     load_tacotron,\n",
    "#     load_waveglow,\n",
    "#     synthesize_audio,\n",
    "# )\n",
    "\n",
    "from unit2speech.tts_data import (\n",
    "    TacotronInputDataset,\n",
    ")\n",
    "from unit2speech.utils import (\n",
    "    load_quantized_audio_from_file,\n",
    "    load_tacotron,\n",
    "    load_waveglow,\n",
    "    synthesize_audio,\n",
    ")"
   ]
  },
  {
   "cell_type": "code",
   "execution_count": null,
   "metadata": {},
   "outputs": [],
   "source": []
  }
 ],
 "metadata": {
  "kernelspec": {
   "display_name": "encodec",
   "language": "python",
   "name": "python3"
  },
  "language_info": {
   "codemirror_mode": {
    "name": "ipython",
    "version": 3
   },
   "file_extension": ".py",
   "mimetype": "text/x-python",
   "name": "python",
   "nbconvert_exporter": "python",
   "pygments_lexer": "ipython3",
   "version": "3.8.15"
  },
  "orig_nbformat": 4,
  "vscode": {
   "interpreter": {
    "hash": "094c9ae320a962664ae725268b2caa008c72eeabdfac83f71f78104cf05452c8"
   }
  }
 },
 "nbformat": 4,
 "nbformat_minor": 2
}
