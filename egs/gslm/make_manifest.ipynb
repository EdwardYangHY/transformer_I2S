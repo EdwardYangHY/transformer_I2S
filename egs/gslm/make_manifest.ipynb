{
 "cells": [
  {
   "cell_type": "code",
   "execution_count": 2,
   "metadata": {},
   "outputs": [],
   "source": [
    "import os\n",
    "from glob import glob\n",
    "import random\n",
    "import json"
   ]
  },
  {
   "cell_type": "code",
   "execution_count": 22,
   "metadata": {},
   "outputs": [],
   "source": [
    "def split_list(l, num):\n",
    "    number = len(l) // num \n",
    "    res = len(l)%num\n",
    "    split = []\n",
    "    for i in range(number):\n",
    "        split_in = l[i*num:(i+1)*num]\n",
    "        split.append(split_in)\n",
    "    if res != 0:\n",
    "        split_in = l[num*number:len(l)]\n",
    "        split.append(split_in)\n",
    "    return split\n",
    "\n",
    "def save_manifest(save_list, base_path, save_name):\n",
    "    with open(save_name, \"w\") as f:\n",
    "        f.writelines(base_path + \"\\n\")\n",
    "        for wav in save_list:\n",
    "            f.writelines(wav+\"\\n\")\n",
    "\n",
    "def make_manifest(base_path, wavs, file_name, target_dir, num_per_mani=60000):\n",
    "    # wavs are the list of wav data\n",
    "    # file name is the saving name\n",
    "    # target_dir is the target dir for storing \n",
    "    # num_per_mani is the maximum number of each manifest.\n",
    "\n",
    "    # first, check if base_path is included in wavs\n",
    "    # if true, then strip the prefix; else pass\n",
    "    if wavs[0][:len(base_path)] == base_path:\n",
    "        wavs = [wav[len(base_path):] for wav in wavs]\n",
    "    else:\n",
    "        pass\n",
    "\n",
    "    # len_all = len(wavs)\n",
    "    wavs_lists = split_list(wavs, num_per_mani)\n",
    "\n",
    "    for i in range(len(wavs_lists)):\n",
    "        save_name = target_dir+f\"{file_name}_{str(i).zfill(2)}.txt\"\n",
    "        save_manifest(wavs_lists[i], base_path=base_path, save_name=save_name)\n",
    "    return"
   ]
  },
  {
   "cell_type": "code",
   "execution_count": 25,
   "metadata": {},
   "outputs": [],
   "source": [
    "base_path = \"/net/papilio/storage2/yhaoyuan/LAbyLM/audios_trimmed_select/\"\n",
    "wavs = glob(base_path+\"/*/*.wav\")\n",
    "# wavs = wavs[:20]\n",
    "save_name = \"audios_trimmed_selet_hbcaps_manifest\"\n",
    "target_dir = \"/net/papilio/storage2/yhaoyuan/transformer_I2S/data/captions_original/\"\n",
    "\n",
    "make_manifest(base_path, wavs, save_name, target_dir)"
   ]
  },
  {
   "cell_type": "code",
   "execution_count": null,
   "metadata": {},
   "outputs": [],
   "source": []
  }
 ],
 "metadata": {
  "kernelspec": {
   "display_name": "encodec",
   "language": "python",
   "name": "python3"
  },
  "language_info": {
   "codemirror_mode": {
    "name": "ipython",
    "version": 3
   },
   "file_extension": ".py",
   "mimetype": "text/x-python",
   "name": "python",
   "nbconvert_exporter": "python",
   "pygments_lexer": "ipython3",
   "version": "3.8.15"
  },
  "orig_nbformat": 4,
  "vscode": {
   "interpreter": {
    "hash": "094c9ae320a962664ae725268b2caa008c72eeabdfac83f71f78104cf05452c8"
   }
  }
 },
 "nbformat": 4,
 "nbformat_minor": 2
}
