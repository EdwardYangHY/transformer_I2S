{
 "cells": [
  {
   "cell_type": "code",
   "execution_count": 2,
   "metadata": {},
   "outputs": [],
   "source": [
    "import os\n",
    "from glob import glob\n",
    "import random\n",
    "import json"
   ]
  },
  {
   "cell_type": "code",
   "execution_count": 20,
   "metadata": {},
   "outputs": [],
   "source": [
    "base_path = \"/net/papilio/storage2/yhaoyuan/LibriSpeech_wav/dev/84/\"\n",
    "wavs = glob(base_path+\"/*/*/*.wav\")\n",
    "wavs = wavs[:20]\n"
   ]
  },
  {
   "cell_type": "code",
   "execution_count": 42,
   "metadata": {},
   "outputs": [],
   "source": [
    "with open(\"manifest.txt\", \"w\") as f:\n",
    "    f.writelines(base_path + \"\\n\")\n",
    "    for wav in wavs:\n",
    "        f.writelines(wav[len(base_path):]+\"\\n\")"
   ]
  },
  {
   "cell_type": "code",
   "execution_count": 43,
   "metadata": {},
   "outputs": [],
   "source": [
    "manifest_path = \"manifest.txt\"\n",
    "sample_pct = 1"
   ]
  },
  {
   "cell_type": "code",
   "execution_count": 44,
   "metadata": {},
   "outputs": [
    {
     "name": "stdout",
     "output_type": "stream",
     "text": [
      "/84-121123-0012_00.wav\n",
      "/84-121123-0018_00.wav\n",
      "/84-121123-0021_00.wav\n",
      "/84-121123-0021_01.wav\n",
      "/84-121123-0022_00.wav\n",
      "/84-121123-0008_00.wav\n",
      "/84-121123-0008_01.wav\n",
      "/84-121123-0004_00.wav\n",
      "/84-121123-0004_01.wav\n",
      "/84-121123-0015_00.wav\n",
      "/84-121123-0002_00.wav\n",
      "/84-121123-0002_01.wav\n",
      "/84-121123-0002_02.wav\n",
      "/84-121123-0002_03.wav\n",
      "/84-121123-0007_00.wav\n",
      "/84-121123-0027_00.wav\n",
      "/84-121123-0013_00.wav\n",
      "/84-121123-0026_00.wav\n",
      "/84-121123-0026_01.wav\n",
      "/84-121123-0026_02.wav\n"
     ]
    }
   ],
   "source": [
    "with open(manifest_path, \"r\") as fp:\n",
    "    lines = fp.read().split(\"\\n\")\n",
    "    root = lines.pop(0).strip()\n",
    "    file_path_list = [\n",
    "        os.path.join(root, line.split(\"\\t\")[0])\n",
    "        for line in lines\n",
    "        if len(line) > 0\n",
    "    ]\n",
    "    [\n",
    "        print(os.path.join(root, line.split(\"\\t\")[0]))\n",
    "        #print(os.path.join(root, line.split(\"\\t\")[0]))\n",
    "        for line in lines\n",
    "        if len(line) > 0\n",
    "    ]\n",
    "    if sample_pct < 1.0:\n",
    "        file_path_list = random.sample(\n",
    "            file_path_list, int(sample_pct * len(file_path_list))\n",
    "        )\n",
    "    num_files = len(file_path_list)"
   ]
  },
  {
   "cell_type": "code",
   "execution_count": 3,
   "metadata": {},
   "outputs": [],
   "source": [
    "# base_path = \"/net/papilio/storage2/yhaoyuan/LibriSpeech_wav/dev/84/\"\n",
    "base_path = \"/net/tateha/storage2/database/misc/SpokenCOCO/SpokenCOCO/\"\n",
    "# wavs = glob(base_path+\"/*/*/*.wav\")\n",
    "# wavs = wavs[:20]\n",
    "train_split_json = \"SpokenCOCO_train.json\"\n",
    "val_split_json = \"SpokenCOCO_val.json\"\n",
    "save_dir = \"/net/papilio/storage6/yhaoyuan/SpeechCap/data/SpokenCOCO/\"\n",
    "manifest_max_item = 50000\n",
    "\n",
    "with open(base_path+train_split_json, \"r\") as f:\n",
    "    train_split = json.load(f)\n",
    "with open(base_path+val_split_json, \"r\") as f:\n",
    "    val_split = json.load(f)"
   ]
  },
  {
   "cell_type": "code",
   "execution_count": 4,
   "metadata": {},
   "outputs": [
    {
     "data": {
      "text/plain": [
       "'wavs/train/0/m007089117jn22tdu1n4f-3RKNTXVS3MYN3YATNC3CUY8JHYDA48_146099_700123.wav'"
      ]
     },
     "execution_count": 4,
     "metadata": {},
     "output_type": "execute_result"
    }
   ],
   "source": [
    "train_split[\"data\"][0][\"captions\"][0][\"wav\"]"
   ]
  },
  {
   "cell_type": "code",
   "execution_count": 5,
   "metadata": {},
   "outputs": [],
   "source": [
    "# keep the order, so we can better modifiy the outcome.\n",
    "\n",
    "train_wavs = []\n",
    "val_wavs = []\n",
    "for train_item in train_split[\"data\"]:\n",
    "    for cap in train_item[\"captions\"]:\n",
    "        # print(cap)\n",
    "        train_wavs.append(cap[\"wav\"])\n",
    "\n",
    "for val_item in val_split[\"data\"]:\n",
    "    for cap in val_item[\"captions\"]:\n",
    "        val_wavs.append(cap[\"wav\"])\n"
   ]
  },
  {
   "cell_type": "code",
   "execution_count": 11,
   "metadata": {},
   "outputs": [],
   "source": [
    "def split_list(l, num):\n",
    "    number = len(l) // num \n",
    "    res = len(l)%num\n",
    "    split = []\n",
    "    for i in range(number):\n",
    "        split_in = l[i*num:(i+1)*num]\n",
    "        split.append(split_in)\n",
    "    if res != 0:\n",
    "        split_in = l[num*number:len(l)]\n",
    "        split.append(split_in)\n",
    "    return split\n",
    "\n",
    "def save_manifest(save_list, base_path, save_name):\n",
    "    with open(save_name, \"w\") as f:\n",
    "        f.writelines(base_path + \"\\n\")\n",
    "        for wav in save_list:\n",
    "            f.writelines(wav+\"\\n\")\n"
   ]
  },
  {
   "cell_type": "code",
   "execution_count": 12,
   "metadata": {},
   "outputs": [],
   "source": [
    "train_wavs_split = split_list(train_wavs, 50000)\n",
    "# val_wavs_split = split_list(val_wavs, 60000)\n",
    "for i in range(len(train_wavs_split)):\n",
    "    save_name = save_dir+f\"SpokenCOCO_train_manifest_{str(i).zfill(2)}.txt\"\n",
    "    save_manifest(train_wavs_split[i], base_path=base_path, save_name=save_name)"
   ]
  },
  {
   "cell_type": "code",
   "execution_count": 13,
   "metadata": {},
   "outputs": [],
   "source": [
    "save_manifest(val_wavs, base_path=base_path, save_name=save_dir+\"SpokenCOCO_val_manifest_00.txt\")"
   ]
  },
  {
   "cell_type": "code",
   "execution_count": 76,
   "metadata": {},
   "outputs": [
    {
     "data": {
      "text/plain": [
       "25035"
      ]
     },
     "execution_count": 76,
     "metadata": {},
     "output_type": "execute_result"
    }
   ],
   "source": []
  },
  {
   "cell_type": "code",
   "execution_count": null,
   "metadata": {},
   "outputs": [],
   "source": []
  }
 ],
 "metadata": {
  "kernelspec": {
   "display_name": "encodec",
   "language": "python",
   "name": "python3"
  },
  "language_info": {
   "codemirror_mode": {
    "name": "ipython",
    "version": 3
   },
   "file_extension": ".py",
   "mimetype": "text/x-python",
   "name": "python",
   "nbconvert_exporter": "python",
   "pygments_lexer": "ipython3",
   "version": "3.8.15"
  },
  "orig_nbformat": 4,
  "vscode": {
   "interpreter": {
    "hash": "094c9ae320a962664ae725268b2caa008c72eeabdfac83f71f78104cf05452c8"
   }
  }
 },
 "nbformat": 4,
 "nbformat_minor": 2
}
