{
 "cells": [
  {
   "cell_type": "code",
   "execution_count": 8,
   "metadata": {},
   "outputs": [],
   "source": [
    "import os\n",
    "from glob import glob\n",
    "import random"
   ]
  },
  {
   "cell_type": "code",
   "execution_count": 41,
   "metadata": {},
   "outputs": [],
   "source": [
    "base_path = \"/net/papilio/storage2/yhaoyuan/LibriSpeech_wav/dev/84/\"\n",
    "wavs = glob(base_path+\"/*.wav\")\n",
    "wavs = wavs[:20]"
   ]
  },
  {
   "cell_type": "code",
   "execution_count": 42,
   "metadata": {},
   "outputs": [],
   "source": [
    "with open(\"manifest.txt\", \"w\") as f:\n",
    "    f.writelines(base_path + \"\\n\")\n",
    "    for wav in wavs:\n",
    "        f.writelines(wav[len(base_path):]+\"\\n\")"
   ]
  },
  {
   "cell_type": "code",
   "execution_count": 43,
   "metadata": {},
   "outputs": [],
   "source": [
    "manifest_path = \"manifest.txt\"\n",
    "sample_pct = 1"
   ]
  },
  {
   "cell_type": "code",
   "execution_count": 44,
   "metadata": {},
   "outputs": [
    {
     "name": "stdout",
     "output_type": "stream",
     "text": [
      "/84-121123-0012_00.wav\n",
      "/84-121123-0018_00.wav\n",
      "/84-121123-0021_00.wav\n",
      "/84-121123-0021_01.wav\n",
      "/84-121123-0022_00.wav\n",
      "/84-121123-0008_00.wav\n",
      "/84-121123-0008_01.wav\n",
      "/84-121123-0004_00.wav\n",
      "/84-121123-0004_01.wav\n",
      "/84-121123-0015_00.wav\n",
      "/84-121123-0002_00.wav\n",
      "/84-121123-0002_01.wav\n",
      "/84-121123-0002_02.wav\n",
      "/84-121123-0002_03.wav\n",
      "/84-121123-0007_00.wav\n",
      "/84-121123-0027_00.wav\n",
      "/84-121123-0013_00.wav\n",
      "/84-121123-0026_00.wav\n",
      "/84-121123-0026_01.wav\n",
      "/84-121123-0026_02.wav\n"
     ]
    }
   ],
   "source": [
    "with open(manifest_path, \"r\") as fp:\n",
    "    lines = fp.read().split(\"\\n\")\n",
    "    root = lines.pop(0).strip()\n",
    "    file_path_list = [\n",
    "        os.path.join(root, line.split(\"\\t\")[0])\n",
    "        for line in lines\n",
    "        if len(line) > 0\n",
    "    ]\n",
    "    [\n",
    "        print(os.path.join(root, line.split(\"\\t\")[0]))\n",
    "        #print(os.path.join(root, line.split(\"\\t\")[0]))\n",
    "        for line in lines\n",
    "        if len(line) > 0\n",
    "    ]\n",
    "    if sample_pct < 1.0:\n",
    "        file_path_list = random.sample(\n",
    "            file_path_list, int(sample_pct * len(file_path_list))\n",
    "        )\n",
    "    num_files = len(file_path_list)"
   ]
  },
  {
   "cell_type": "code",
   "execution_count": null,
   "metadata": {},
   "outputs": [],
   "source": []
  }
 ],
 "metadata": {
  "kernelspec": {
   "display_name": "encodec",
   "language": "python",
   "name": "python3"
  },
  "language_info": {
   "codemirror_mode": {
    "name": "ipython",
    "version": 3
   },
   "file_extension": ".py",
   "mimetype": "text/x-python",
   "name": "python",
   "nbconvert_exporter": "python",
   "pygments_lexer": "ipython3",
   "version": "3.8.15"
  },
  "orig_nbformat": 4,
  "vscode": {
   "interpreter": {
    "hash": "094c9ae320a962664ae725268b2caa008c72eeabdfac83f71f78104cf05452c8"
   }
  }
 },
 "nbformat": 4,
 "nbformat_minor": 2
}
